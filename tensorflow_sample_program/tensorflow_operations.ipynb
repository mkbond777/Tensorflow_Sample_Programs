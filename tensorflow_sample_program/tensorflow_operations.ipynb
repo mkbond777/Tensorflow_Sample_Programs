{
 "cells": [
  {
   "cell_type": "code",
   "execution_count": 2,
   "metadata": {
    "collapsed": false
   },
   "outputs": [
    {
     "name": "stdout",
     "output_type": "stream",
     "text": [
      "5\n"
     ]
    }
   ],
   "source": [
    "# A simple tensorflow program with tensorboard\n",
    "import os\n",
    "import tensorflow as tf\n",
    "\n",
    "os.environ['TF_CPP_MIN_LOG_LEVEL'] = '2'\n",
    "\n",
    "a = tf.constant(2)\n",
    "b = tf.constant(3)\n",
    "x = tf.add(a, b)\n",
    "\n",
    "writer = tf.summary.FileWriter('./graphs', tf.get_default_graph())\n",
    "with tf.Session() as sess:\n",
    "    print(sess.run(x))\n",
    "writer.close()"
   ]
  },
  {
   "cell_type": "code",
   "execution_count": 3,
   "metadata": {},
   "outputs": [
    {
     "name": "stdout",
     "output_type": "stream",
     "text": [
      "5\n"
     ]
    }
   ],
   "source": [
    "# Explicitly naming variables in tensorboard graphs\n",
    "\n",
    "a = tf.constant(2, name ='a')\n",
    "b = tf.constant(3, name ='b')\n",
    "x = tf.add(a, b, name='add')\n",
    "\n",
    "writer = tf.summary.FileWriter('./graphs', tf.get_default_graph())\n",
    "with tf.Session() as sess:\n",
    "    print(sess.run(x))"
   ]
  },
  {
   "cell_type": "code",
   "execution_count": 4,
   "metadata": {},
   "outputs": [
    {
     "name": "stdout",
     "output_type": "stream",
     "text": [
      "[[0 2]\n [4 6]]\n"
     ]
    }
   ],
   "source": [
    "# Contants\n",
    "\n",
    "a = tf.constant([2,2], name='a')\n",
    "b = tf.constant([[0,1],[2,3]], name = 'b')\n",
    "x = tf.multiply(a,b, name='mul')\n",
    "\n",
    "with tf.Session() as sess:\n",
    "    print(sess.run(x))"
   ]
  },
  {
   "cell_type": "code",
   "execution_count": 6,
   "metadata": {},
   "outputs": [],
   "source": [
    "# Tensors Filled with a specific value\n",
    "\n",
    "y = tf.zeros([2,3], tf.int32)"
   ]
  },
  {
   "cell_type": "code",
   "execution_count": 7,
   "metadata": {},
   "outputs": [
    {
     "name": "stdout",
     "output_type": "stream",
     "text": [
      "[[0 0 0]\n [0 0 0]]\n"
     ]
    }
   ],
   "source": [
    "# Tensors filled with a specific value, similar to numpy.zeros_like \n",
    "\n",
    "x = tf.zeros_like(y)\n",
    "with tf.Session() as sess:\n",
    "    print(sess.run(x))"
   ]
  },
  {
   "cell_type": "code",
   "execution_count": 8,
   "metadata": {},
   "outputs": [
    {
     "name": "stdout",
     "output_type": "stream",
     "text": [
      "[[1 1 1]\n [1 1 1]]\n"
     ]
    }
   ],
   "source": [
    "# Some more tensors with a specific value like numpy\n",
    "\n",
    "specific_tensor = tf.ones([2,3],tf.int32)\n",
    "\n",
    "specific_tensor_like = tf.ones_like(specific_tensor)\n",
    "\n",
    "with tf.Session() as sess:\n",
    "    print(sess.run(specific_tensor_like))"
   ]
  },
  {
   "cell_type": "code",
   "execution_count": 9,
   "metadata": {},
   "outputs": [
    {
     "name": "stdout",
     "output_type": "stream",
     "text": [
      "[[8 8 8]\n [8 8 8]]\n"
     ]
    }
   ],
   "source": [
    "# Tensors filled with a specific value like NumPy.full\n",
    "\n",
    "specific_tensor_any = tf.fill([2,3],8)\n",
    "\n",
    "with tf.Session() as sess:\n",
    "    print(sess.run(specific_tensor_any))"
   ]
  },
  {
   "cell_type": "code",
   "execution_count": 12,
   "metadata": {},
   "outputs": [
    {
     "name": "stdout",
     "output_type": "stream",
     "text": [
      "[ 10.          10.60000038  11.19999981  11.80000019  12.39999962  13.        ]\n[ 3  6  9 12 15]\n[0 1 2 3 4]\n"
     ]
    }
   ],
   "source": [
    "# Constants as sequences\n",
    "\n",
    "lin_spaces = tf.lin_space(10.0,13.0,6)\n",
    "tf_range = tf.range(3,18,3)\n",
    "tf_range_default = tf.range(5)\n",
    "\n",
    "with tf.Session() as sess:\n",
    "    print(sess.run(lin_spaces))\n",
    "    print(sess.run(tf_range))\n",
    "    print(sess.run(tf_range_default))\n",
    "    \n",
    "# NOT the same as Numpy Sequences\n",
    "# Tensor objects are not iterable\n",
    "# for _ in tf.range(4): #TypeError"
   ]
  },
  {
   "cell_type": "markdown",
   "metadata": {},
   "source": [
    "Randomly Generated Constants\n",
    "\n",
    "\n",
    "tf.random_normal\n",
    "\n",
    "tf.truncated_normal\n",
    "\n",
    "tf.random_uniform\n",
    "\n",
    "tf.random_shuffle\n",
    "\n",
    "tf.random_crop\n",
    "\n",
    "tf.multinomial\n",
    "\n",
    "tf.random_gamma\n"
   ]
  },
  {
   "cell_type": "code",
   "execution_count": 8,
   "metadata": {},
   "outputs": [],
   "source": [
    "# Randomaly generated constants\n",
    "\n",
    "tf.set_random_seed(1234)\n",
    "\n",
    "# Need to read more about this ???"
   ]
  },
  {
   "cell_type": "code",
   "execution_count": 9,
   "metadata": {},
   "outputs": [],
   "source": [
    "# Read Operations slide from the slide note. Slide number : 25"
   ]
  },
  {
   "cell_type": "code",
   "execution_count": 10,
   "metadata": {},
   "outputs": [
    {
     "name": "stdout",
     "output_type": "stream",
     "text": [
      "[2, -5]\n"
     ]
    }
   ],
   "source": [
    "# Arithmetic Ops similar to numpy\n",
    "\n",
    "abs1 = tf.abs(2)\n",
    "neg = tf.negative(5)\n",
    "\n",
    "print(sess.run([abs1, neg]))"
   ]
  },
  {
   "cell_type": "code",
   "execution_count": 12,
   "metadata": {},
   "outputs": [
    {
     "name": "stdout",
     "output_type": "stream",
     "text": [
      "[[0 0]\n [1 1]]\n[[ 0.   0.5]\n [ 1.   1.5]]\n"
     ]
    }
   ],
   "source": [
    "# Wizard of Div\n",
    "\n",
    "a = tf.constant([2,2], name='a')\n",
    "b = tf.constant([[0,1],[2,3]],name='b')\n",
    "\n",
    "print(sess.run(tf.div(b,a)))\n",
    "print(sess.run(tf.divide(b,a)))\n",
    "\n",
    "# There are lot of others type of divide, which we can check."
   ]
  },
  {
   "cell_type": "code",
   "execution_count": 19,
   "metadata": {},
   "outputs": [
    {
     "name": "stdout",
     "output_type": "stream",
     "text": [
      "0\n1\n[b'apple', b'peach', b'grape']\n[b'' b'' b'']\n[[ True  True  True]\n [ True  True  True]\n [ True  True  True]]\n[[False False False]\n [False False False]\n [False False False]]\n"
     ]
    }
   ],
   "source": [
    "# Tensorflow takes python natives types: boolean, numeric(int, float), strings\n",
    "\n",
    "# Scalars are treated like 0-d tensors\n",
    "\n",
    "t_0 = 19\n",
    "print(sess.run(tf.zeros_like(t_0)))\n",
    "print(sess.run(tf.ones_like(t_0)))\n",
    "\n",
    "# b in front makes it bytes literal\n",
    "t_1 = [b\"apple\",b\"peach\",b\"grape\"]\n",
    "print(t_1)\n",
    "print(sess.run(tf.zeros_like(t_1)))\n",
    "\n",
    "\n",
    "t_2 = [[True, False, False],\n",
    "       [False,False,True],\n",
    "       [False,True,False]]\n",
    "\n",
    "print(sess.run(tf.ones_like(t_2)))\n",
    "print(sess.run(tf.zeros_like(t_2)))"
   ]
  },
  {
   "cell_type": "code",
   "execution_count": 22,
   "metadata": {},
   "outputs": [
    {
     "name": "stdout",
     "output_type": "stream",
     "text": [
      "<class 'tensorflow.python.framework.ops.Tensor'>\n<class 'numpy.ndarray'>\n"
     ]
    }
   ],
   "source": [
    "# Tensorflow integrates seamlessly with NumPy\n",
    "\n",
    "# For tf.Session.run(fetches): if the requested fetch is a tensor, output will be a NumPy ndarray.\n",
    "import numpy as np\n",
    "\n",
    "a = tf.zeros([2,3], np.int32)\n",
    "print(type(a))\n",
    "\n",
    "b = sess.run(a)\n",
    "print(type(b))"
   ]
  },
  {
   "cell_type": "code",
   "execution_count": 23,
   "metadata": {
    "collapsed": true
   },
   "outputs": [
    {
     "name": "stdout",
     "output_type": "stream",
     "text": [
      "node {\n  name: \"Const\"\n  op: \"Const\"\n  attr {\n    key: \"dtype\"\n    value {\n      type: DT_INT32\n    }\n  }\n  attr {\n    key: \"value\"\n    value {\n      tensor {\n        dtype: DT_INT32\n        tensor_shape {\n        }\n        int_val: 2\n      }\n    }\n  }\n}\nnode {\n  name: \"Const_1\"\n  op: \"Const\"\n  attr {\n    key: \"dtype\"\n    value {\n      type: DT_INT32\n    }\n  }\n  attr {\n    key: \"value\"\n    value {\n      tensor {\n        dtype: DT_INT32\n        tensor_shape {\n        }\n        int_val: 3\n      }\n    }\n  }\n}\nnode {\n  name: \"Add\"\n  op: \"Add\"\n  input: \"Const\"\n  input: \"Const_1\"\n  attr {\n    key: \"T\"\n    value {\n      type: DT_INT32\n    }\n  }\n}\nnode {\n  name: \"Const_2\"\n  op: \"Const\"\n  attr {\n    key: \"dtype\"\n    value {\n      type: DT_INT32\n    }\n  }\n  attr {\n    key: \"value\"\n    value {\n      tensor {\n        dtype: DT_INT32\n        tensor_shape {\n        }\n        int_val: 2\n      }\n    }\n  }\n}\nnode {\n  name: \"Const_3\"\n  op: \"Const\"\n  attr {\n    key: \"dtype\"\n    value {\n      type: DT_INT32\n    }\n  }\n  attr {\n    key: \"value\"\n    value {\n      tensor {\n        dtype: DT_INT32\n        tensor_shape {\n        }\n        int_val: 3\n      }\n    }\n  }\n}\nnode {\n  name: \"Add_1\"\n  op: \"Add\"\n  input: \"Const_2\"\n  input: \"Const_3\"\n  attr {\n    key: \"T\"\n    value {\n      type: DT_INT32\n    }\n  }\n}\nnode {\n  name: \"Const_4\"\n  op: \"Const\"\n  attr {\n    key: \"dtype\"\n    value {\n      type: DT_INT32\n    }\n  }\n  attr {\n    key: \"value\"\n    value {\n      tensor {\n        dtype: DT_INT32\n        tensor_shape {\n        }\n        int_val: 2\n      }\n    }\n  }\n}\nnode {\n  name: \"Const_5\"\n  op: \"Const\"\n  attr {\n    key: \"dtype\"\n    value {\n      type: DT_INT32\n    }\n  }\n  attr {\n    key: \"value\"\n    value {\n      tensor {\n        dtype: DT_INT32\n        tensor_shape {\n        }\n        int_val: 3\n      }\n    }\n  }\n}\nnode {\n  name: \"Add_2\"\n  op: \"Add\"\n  input: \"Const_4\"\n  input: \"Const_5\"\n  attr {\n    key: \"T\"\n    value {\n      type: DT_INT32\n    }\n  }\n}\nnode {\n  name: \"Abs/x\"\n  op: \"Const\"\n  attr {\n    key: \"dtype\"\n    value {\n      type: DT_INT32\n    }\n  }\n  attr {\n    key: \"value\"\n    value {\n      tensor {\n        dtype: DT_INT32\n        tensor_shape {\n        }\n        int_val: 2\n      }\n    }\n  }\n}\nnode {\n  name: \"Abs\"\n  op: \"Abs\"\n  input: \"Abs/x\"\n  attr {\n    key: \"T\"\n    value {\n      type: DT_INT32\n    }\n  }\n}\nnode {\n  name: \"Neg/x\"\n  op: \"Const\"\n  attr {\n    key: \"dtype\"\n    value {\n      type: DT_INT32\n    }\n  }\n  attr {\n    key: \"value\"\n    value {\n      tensor {\n        dtype: DT_INT32\n        tensor_shape {\n        }\n        int_val: 5\n      }\n    }\n  }\n}\nnode {\n  name: \"Neg\"\n  op: \"Neg\"\n  input: \"Neg/x\"\n  attr {\n    key: \"T\"\n    value {\n      type: DT_INT32\n    }\n  }\n}\nnode {\n  name: \"a\"\n  op: \"Const\"\n  attr {\n    key: \"dtype\"\n    value {\n      type: DT_INT32\n    }\n  }\n  attr {\n    key: \"value\"\n    value {\n      tensor {\n        dtype: DT_INT32\n        tensor_shape {\n          dim {\n            size: 2\n          }\n        }\n        tensor_content: \"\\002\\000\\000\\000\\002\\000\\000\\000\"\n      }\n    }\n  }\n}\nnode {\n  name: \"b\"\n  op: \"Const\"\n  attr {\n    key: \"dtype\"\n    value {\n      type: DT_INT32\n    }\n  }\n  attr {\n    key: \"value\"\n    value {\n      tensor {\n        dtype: DT_INT32\n        tensor_shape {\n          dim {\n            size: 2\n          }\n          dim {\n            size: 2\n          }\n        }\n        tensor_content: \"\\000\\000\\000\\000\\001\\000\\000\\000\\002\\000\\000\\000\\003\\000\\000\\000\"\n      }\n    }\n  }\n}\nnode {\n  name: \"div\"\n  op: \"FloorDiv\"\n  input: \"b\"\n  input: \"a\"\n  attr {\n    key: \"T\"\n    value {\n      type: DT_INT32\n    }\n  }\n}\nnode {\n  name: \"a_1\"\n  op: \"Const\"\n  attr {\n    key: \"dtype\"\n    value {\n      type: DT_INT32\n    }\n  }\n  attr {\n    key: \"value\"\n    value {\n      tensor {\n        dtype: DT_INT32\n        tensor_shape {\n          dim {\n            size: 2\n          }\n        }\n        tensor_content: \"\\002\\000\\000\\000\\002\\000\\000\\000\"\n      }\n    }\n  }\n}\nnode {\n  name: \"b_1\"\n  op: \"Const\"\n  attr {\n    key: \"dtype\"\n    value {\n      type: DT_INT32\n    }\n  }\n  attr {\n    key: \"value\"\n    value {\n      tensor {\n        dtype: DT_INT32\n        tensor_shape {\n          dim {\n            size: 2\n          }\n          dim {\n            size: 2\n          }\n        }\n        tensor_content: \"\\000\\000\\000\\000\\001\\000\\000\\000\\002\\000\\000\\000\\003\\000\\000\\000\"\n      }\n    }\n  }\n}\nnode {\n  name: \"div_1\"\n  op: \"FloorDiv\"\n  input: \"b_1\"\n  input: \"a_1\"\n  attr {\n    key: \"T\"\n    value {\n      type: DT_INT32\n    }\n  }\n}\nnode {\n  name: \"truediv/Cast\"\n  op: \"Cast\"\n  input: \"b_1\"\n  attr {\n    key: \"DstT\"\n    value {\n      type: DT_DOUBLE\n    }\n  }\n  attr {\n    key: \"SrcT\"\n    value {\n      type: DT_INT32\n    }\n  }\n}\nnode {\n  name: \"truediv/Cast_1\"\n  op: \"Cast\"\n  input: \"a_1\"\n  attr {\n    key: \"DstT\"\n    value {\n      type: DT_DOUBLE\n    }\n  }\n  attr {\n    key: \"SrcT\"\n    value {\n      type: DT_INT32\n    }\n  }\n}\nnode {\n  name: \"truediv\"\n  op: \"RealDiv\"\n  input: \"truediv/Cast\"\n  input: \"truediv/Cast_1\"\n  attr {\n    key: \"T\"\n    value {\n      type: DT_DOUBLE\n    }\n  }\n}\nnode {\n  name: \"zeros_like/tensor\"\n  op: \"Const\"\n  attr {\n    key: \"dtype\"\n    value {\n      type: DT_INT32\n    }\n  }\n  attr {\n    key: \"value\"\n    value {\n      tensor {\n        dtype: DT_INT32\n        tensor_shape {\n        }\n        int_val: 19\n      }\n    }\n  }\n}\nnode {\n  name: \"zeros_like\"\n  op: \"ZerosLike\"\n  input: \"zeros_like/tensor\"\n  attr {\n    key: \"T\"\n    value {\n      type: DT_INT32\n    }\n  }\n}\nnode {\n  name: \"ones_like/tensor\"\n  op: \"Const\"\n  attr {\n    key: \"dtype\"\n    value {\n      type: DT_INT32\n    }\n  }\n  attr {\n    key: \"value\"\n    value {\n      tensor {\n        dtype: DT_INT32\n        tensor_shape {\n        }\n        int_val: 19\n      }\n    }\n  }\n}\nnode {\n  name: \"ones_like/Shape\"\n  op: \"Const\"\n  attr {\n    key: \"dtype\"\n    value {\n      type: DT_INT32\n    }\n  }\n  attr {\n    key: \"value\"\n    value {\n      tensor {\n        dtype: DT_INT32\n        tensor_shape {\n          dim {\n          }\n        }\n      }\n    }\n  }\n}\nnode {\n  name: \"ones_like/Const\"\n  op: \"Const\"\n  attr {\n    key: \"dtype\"\n    value {\n      type: DT_INT32\n    }\n  }\n  attr {\n    key: \"value\"\n    value {\n      tensor {\n        dtype: DT_INT32\n        tensor_shape {\n        }\n        int_val: 1\n      }\n    }\n  }\n}\nnode {\n  name: \"ones_like\"\n  op: \"Fill\"\n  input: \"ones_like/Shape\"\n  input: \"ones_like/Const\"\n  attr {\n    key: \"T\"\n    value {\n      type: DT_INT32\n    }\n  }\n}\nnode {\n  name: \"zeros_like_1/tensor\"\n  op: \"Const\"\n  attr {\n    key: \"dtype\"\n    value {\n      type: DT_INT32\n    }\n  }\n  attr {\n    key: \"value\"\n    value {\n      tensor {\n        dtype: DT_INT32\n        tensor_shape {\n        }\n        int_val: 19\n      }\n    }\n  }\n}\nnode {\n  name: \"zeros_like_1\"\n  op: \"ZerosLike\"\n  input: \"zeros_like_1/tensor\"\n  attr {\n    key: \"T\"\n    value {\n      type: DT_INT32\n    }\n  }\n}\nnode {\n  name: \"ones_like_1/tensor\"\n  op: \"Const\"\n  attr {\n    key: \"dtype\"\n    value {\n      type: DT_INT32\n    }\n  }\n  attr {\n    key: \"value\"\n    value {\n      tensor {\n        dtype: DT_INT32\n        tensor_shape {\n        }\n        int_val: 19\n      }\n    }\n  }\n}\nnode {\n  name: \"ones_like_1/Shape\"\n  op: \"Const\"\n  attr {\n    key: \"dtype\"\n    value {\n      type: DT_INT32\n    }\n  }\n  attr {\n    key: \"value\"\n    value {\n      tensor {\n        dtype: DT_INT32\n        tensor_shape {\n          dim {\n          }\n        }\n      }\n    }\n  }\n}\nnode {\n  name: \"ones_like_1/Const\"\n  op: \"Const\"\n  attr {\n    key: \"dtype\"\n    value {\n      type: DT_INT32\n    }\n  }\n  attr {\n    key: \"value\"\n    value {\n      tensor {\n        dtype: DT_INT32\n        tensor_shape {\n        }\n        int_val: 1\n      }\n    }\n  }\n}\nnode {\n  name: \"ones_like_1\"\n  op: \"Fill\"\n  input: \"ones_like_1/Shape\"\n  input: \"ones_like_1/Const\"\n  attr {\n    key: \"T\"\n    value {\n      type: DT_INT32\n    }\n  }\n}\nnode {\n  name: \"zeros_like_2/tensor\"\n  op: \"Const\"\n  attr {\n    key: \"dtype\"\n    value {\n      type: DT_INT32\n    }\n  }\n  attr {\n    key: \"value\"\n    value {\n      tensor {\n        dtype: DT_INT32\n        tensor_shape {\n        }\n        int_val: 19\n      }\n    }\n  }\n}\nnode {\n  name: \"zeros_like_2\"\n  op: \"ZerosLike\"\n  input: \"zeros_like_2/tensor\"\n  attr {\n    key: \"T\"\n    value {\n      type: DT_INT32\n    }\n  }\n}\nnode {\n  name: \"ones_like_2/tensor\"\n  op: \"Const\"\n  attr {\n    key: \"dtype\"\n    value {\n      type: DT_INT32\n    }\n  }\n  attr {\n    key: \"value\"\n    value {\n      tensor {\n        dtype: DT_INT32\n        tensor_shape {\n        }\n        int_val: 19\n      }\n    }\n  }\n}\nnode {\n  name: \"ones_like_2/Shape\"\n  op: \"Const\"\n  attr {\n    key: \"dtype\"\n    value {\n      type: DT_INT32\n    }\n  }\n  attr {\n    key: \"value\"\n    value {\n      tensor {\n        dtype: DT_INT32\n        tensor_shape {\n          dim {\n          }\n        }\n      }\n    }\n  }\n}\nnode {\n  name: \"ones_like_2/Const\"\n  op: \"Const\"\n  attr {\n    key: \"dtype\"\n    value {\n      type: DT_INT32\n    }\n  }\n  attr {\n    key: \"value\"\n    value {\n      tensor {\n        dtype: DT_INT32\n        tensor_shape {\n        }\n        int_val: 1\n      }\n    }\n  }\n}\nnode {\n  name: \"ones_like_2\"\n  op: \"Fill\"\n  input: \"ones_like_2/Shape\"\n  input: \"ones_like_2/Const\"\n  attr {\n    key: \"T\"\n    value {\n      type: DT_INT32\n    }\n  }\n}\nnode {\n  name: \"zeros_like_3/tensor\"\n  op: \"Const\"\n  attr {\n    key: \"dtype\"\n    value {\n      type: DT_INT32\n    }\n  }\n  attr {\n    key: \"value\"\n    value {\n      tensor {\n        dtype: DT_INT32\n        tensor_shape {\n        }\n        int_val: 19\n      }\n    }\n  }\n}\nnode {\n  name: \"zeros_like_3\"\n  op: \"ZerosLike\"\n  input: \"zeros_like_3/tensor\"\n  attr {\n    key: \"T\"\n    value {\n      type: DT_INT32\n    }\n  }\n}\nnode {\n  name: \"ones_like_3/tensor\"\n  op: \"Const\"\n  attr {\n    key: \"dtype\"\n    value {\n      type: DT_INT32\n    }\n  }\n  attr {\n    key: \"value\"\n    value {\n      tensor {\n        dtype: DT_INT32\n        tensor_shape {\n        }\n        int_val: 19\n      }\n    }\n  }\n}\nnode {\n  name: \"ones_like_3/Shape\"\n  op: \"Const\"\n  attr {\n    key: \"dtype\"\n    value {\n      type: DT_INT32\n    }\n  }\n  attr {\n    key: \"value\"\n    value {\n      tensor {\n        dtype: DT_INT32\n        tensor_shape {\n          dim {\n          }\n        }\n      }\n    }\n  }\n}\nnode {\n  name: \"ones_like_3/Const\"\n  op: \"Const\"\n  attr {\n    key: \"dtype\"\n    value {\n      type: DT_INT32\n    }\n  }\n  attr {\n    key: \"value\"\n    value {\n      tensor {\n        dtype: DT_INT32\n        tensor_shape {\n        }\n        int_val: 1\n      }\n    }\n  }\n}\nnode {\n  name: \"ones_like_3\"\n  op: \"Fill\"\n  input: \"ones_like_3/Shape\"\n  input: \"ones_like_3/Const\"\n  attr {\n    key: \"T\"\n    value {\n      type: DT_INT32\n    }\n  }\n}\nnode {\n  name: \"ones_like_4/tensor\"\n  op: \"Const\"\n  attr {\n    key: \"dtype\"\n    value {\n      type: DT_STRING\n    }\n  }\n  attr {\n    key: \"value\"\n    value {\n      tensor {\n        dtype: DT_STRING\n        tensor_shape {\n          dim {\n            size: 3\n          }\n        }\n        string_val: \"apple\"\n        string_val: \"peach\"\n        string_val: \"grape\"\n      }\n    }\n  }\n}\nnode {\n  name: \"ones_like_4/Shape\"\n  op: \"Const\"\n  attr {\n    key: \"dtype\"\n    value {\n      type: DT_INT32\n    }\n  }\n  attr {\n    key: \"value\"\n    value {\n      tensor {\n        dtype: DT_INT32\n        tensor_shape {\n          dim {\n            size: 1\n          }\n        }\n        int_val: 3\n      }\n    }\n  }\n}\nnode {\n  name: \"zeros_like_4/tensor\"\n  op: \"Const\"\n  attr {\n    key: \"dtype\"\n    value {\n      type: DT_INT32\n    }\n  }\n  attr {\n    key: \"value\"\n    value {\n      tensor {\n        dtype: DT_INT32\n        tensor_shape {\n        }\n        int_val: 19\n      }\n    }\n  }\n}\nnode {\n  name: \"zeros_like_4\"\n  op: \"ZerosLike\"\n  input: \"zeros_like_4/tensor\"\n  attr {\n    key: \"T\"\n    value {\n      type: DT_INT32\n    }\n  }\n}\nnode {\n  name: \"ones_like_5/tensor\"\n  op: \"Const\"\n  attr {\n    key: \"dtype\"\n    value {\n      type: DT_INT32\n    }\n  }\n  attr {\n    key: \"value\"\n    value {\n      tensor {\n        dtype: DT_INT32\n        tensor_shape {\n        }\n        int_val: 19\n      }\n    }\n  }\n}\nnode {\n  name: \"ones_like_5/Shape\"\n  op: \"Const\"\n  attr {\n    key: \"dtype\"\n    value {\n      type: DT_INT32\n    }\n  }\n  attr {\n    key: \"value\"\n    value {\n      tensor {\n        dtype: DT_INT32\n        tensor_shape {\n          dim {\n          }\n        }\n      }\n    }\n  }\n}\nnode {\n  name: \"ones_like_5/Const\"\n  op: \"Const\"\n  attr {\n    key: \"dtype\"\n    value {\n      type: DT_INT32\n    }\n  }\n  attr {\n    key: \"value\"\n    value {\n      tensor {\n        dtype: DT_INT32\n        tensor_shape {\n        }\n        int_val: 1\n      }\n    }\n  }\n}\nnode {\n  name: \"ones_like_5\"\n  op: \"Fill\"\n  input: \"ones_like_5/Shape\"\n  input: \"ones_like_5/Const\"\n  attr {\n    key: \"T\"\n    value {\n      type: DT_INT32\n    }\n  }\n}\nnode {\n  name: \"zeros_like_5/tensor\"\n  op: \"Const\"\n  attr {\n    key: \"dtype\"\n    value {\n      type: DT_STRING\n    }\n  }\n  attr {\n    key: \"value\"\n    value {\n      tensor {\n        dtype: DT_STRING\n        tensor_shape {\n          dim {\n            size: 3\n          }\n        }\n        string_val: \"apple\"\n        string_val: \"peach\"\n        string_val: \"grape\"\n      }\n    }\n  }\n}\nnode {\n  name: \"zeros_like_5\"\n  op: \"ZerosLike\"\n  input: \"zeros_like_5/tensor\"\n  attr {\n    key: \"T\"\n    value {\n      type: DT_STRING\n    }\n  }\n}\nnode {\n  name: \"zeros_like_6/tensor\"\n  op: \"Const\"\n  attr {\n    key: \"dtype\"\n    value {\n      type: DT_INT32\n    }\n  }\n  attr {\n    key: \"value\"\n    value {\n      tensor {\n        dtype: DT_INT32\n        tensor_shape {\n        }\n        int_val: 19\n      }\n    }\n  }\n}\nnode {\n  name: \"zeros_like_6\"\n  op: \"ZerosLike\"\n  input: \"zeros_like_6/tensor\"\n  attr {\n    key: \"T\"\n    value {\n      type: DT_INT32\n    }\n  }\n}\nnode {\n  name: \"ones_like_6/tensor\"\n  op: \"Const\"\n  attr {\n    key: \"dtype\"\n    value {\n      type: DT_INT32\n    }\n  }\n  attr {\n    key: \"value\"\n    value {\n      tensor {\n        dtype: DT_INT32\n        tensor_shape {\n        }\n        int_val: 19\n      }\n    }\n  }\n}\nnode {\n  name: \"ones_like_6/Shape\"\n  op: \"Const\"\n  attr {\n    key: \"dtype\"\n    value {\n      type: DT_INT32\n    }\n  }\n  attr {\n    key: \"value\"\n    value {\n      tensor {\n        dtype: DT_INT32\n        tensor_shape {\n          dim {\n          }\n        }\n      }\n    }\n  }\n}\nnode {\n  name: \"ones_like_6/Const\"\n  op: \"Const\"\n  attr {\n    key: \"dtype\"\n    value {\n      type: DT_INT32\n    }\n  }\n  attr {\n    key: \"value\"\n    value {\n      tensor {\n        dtype: DT_INT32\n        tensor_shape {\n        }\n        int_val: 1\n      }\n    }\n  }\n}\nnode {\n  name: \"ones_like_6\"\n  op: \"Fill\"\n  input: \"ones_like_6/Shape\"\n  input: \"ones_like_6/Const\"\n  attr {\n    key: \"T\"\n    value {\n      type: DT_INT32\n    }\n  }\n}\nnode {\n  name: \"zeros_like_7/tensor\"\n  op: \"Const\"\n  attr {\n    key: \"dtype\"\n    value {\n      type: DT_STRING\n    }\n  }\n  attr {\n    key: \"value\"\n    value {\n      tensor {\n        dtype: DT_STRING\n        tensor_shape {\n          dim {\n            size: 3\n          }\n        }\n        string_val: \"apple\"\n        string_val: \"peach\"\n        string_val: \"grape\"\n      }\n    }\n  }\n}\nnode {\n  name: \"zeros_like_7\"\n  op: \"ZerosLike\"\n  input: \"zeros_like_7/tensor\"\n  attr {\n    key: \"T\"\n    value {\n      type: DT_STRING\n    }\n  }\n}\nnode {\n  name: \"ones_like_7/tensor\"\n  op: \"Const\"\n  attr {\n    key: \"dtype\"\n    value {\n      type: DT_BOOL\n    }\n  }\n  attr {\n    key: \"value\"\n    value {\n      tensor {\n        dtype: DT_BOOL\n        tensor_shape {\n          dim {\n            size: 3\n          }\n          dim {\n            size: 3\n          }\n        }\n        bool_val: true\n        bool_val: false\n        bool_val: false\n        bool_val: false\n        bool_val: false\n        bool_val: true\n        bool_val: false\n        bool_val: true\n        bool_val: false\n      }\n    }\n  }\n}\nnode {\n  name: \"ones_like_7/Shape\"\n  op: \"Const\"\n  attr {\n    key: \"dtype\"\n    value {\n      type: DT_INT32\n    }\n  }\n  attr {\n    key: \"value\"\n    value {\n      tensor {\n        dtype: DT_INT32\n        tensor_shape {\n          dim {\n            size: 2\n          }\n        }\n        tensor_content: \"\\003\\000\\000\\000\\003\\000\\000\\000\"\n      }\n    }\n  }\n}\nnode {\n  name: \"ones_like_7/Const\"\n  op: \"Const\"\n  attr {\n    key: \"dtype\"\n    value {\n      type: DT_BOOL\n    }\n  }\n  attr {\n    key: \"value\"\n    value {\n      tensor {\n        dtype: DT_BOOL\n        tensor_shape {\n        }\n        bool_val: true\n      }\n    }\n  }\n}\nnode {\n  name: \"ones_like_7\"\n  op: \"Fill\"\n  input: \"ones_like_7/Shape\"\n  input: \"ones_like_7/Const\"\n  attr {\n    key: \"T\"\n    value {\n      type: DT_BOOL\n    }\n  }\n}\nnode {\n  name: \"zeros_like_8/tensor\"\n  op: \"Const\"\n  attr {\n    key: \"dtype\"\n    value {\n      type: DT_INT32\n    }\n  }\n  attr {\n    key: \"value\"\n    value {\n      tensor {\n        dtype: DT_INT32\n        tensor_shape {\n        }\n        int_val: 19\n      }\n    }\n  }\n}\nnode {\n  name: \"zeros_like_8\"\n  op: \"ZerosLike\"\n  input: \"zeros_like_8/tensor\"\n  attr {\n    key: \"T\"\n    value {\n      type: DT_INT32\n    }\n  }\n}\nnode {\n  name: \"ones_like_8/tensor\"\n  op: \"Const\"\n  attr {\n    key: \"dtype\"\n    value {\n      type: DT_INT32\n    }\n  }\n  attr {\n    key: \"value\"\n    value {\n      tensor {\n        dtype: DT_INT32\n        tensor_shape {\n        }\n        int_val: 19\n      }\n    }\n  }\n}\nnode {\n  name: \"ones_like_8/Shape\"\n  op: \"Const\"\n  attr {\n    key: \"dtype\"\n    value {\n      type: DT_INT32\n    }\n  }\n  attr {\n    key: \"value\"\n    value {\n      tensor {\n        dtype: DT_INT32\n        tensor_shape {\n          dim {\n          }\n        }\n      }\n    }\n  }\n}\nnode {\n  name: \"ones_like_8/Const\"\n  op: \"Const\"\n  attr {\n    key: \"dtype\"\n    value {\n      type: DT_INT32\n    }\n  }\n  attr {\n    key: \"value\"\n    value {\n      tensor {\n        dtype: DT_INT32\n        tensor_shape {\n        }\n        int_val: 1\n      }\n    }\n  }\n}\nnode {\n  name: \"ones_like_8\"\n  op: \"Fill\"\n  input: \"ones_like_8/Shape\"\n  input: \"ones_like_8/Const\"\n  attr {\n    key: \"T\"\n    value {\n      type: DT_INT32\n    }\n  }\n}\nnode {\n  name: \"zeros_like_9/tensor\"\n  op: \"Const\"\n  attr {\n    key: \"dtype\"\n    value {\n      type: DT_STRING\n    }\n  }\n  attr {\n    key: \"value\"\n    value {\n      tensor {\n        dtype: DT_STRING\n        tensor_shape {\n          dim {\n            size: 3\n          }\n        }\n        string_val: \"apple\"\n        string_val: \"peach\"\n        string_val: \"grape\"\n      }\n    }\n  }\n}\nnode {\n  name: \"zeros_like_9\"\n  op: \"ZerosLike\"\n  input: \"zeros_like_9/tensor\"\n  attr {\n    key: \"T\"\n    value {\n      type: DT_STRING\n    }\n  }\n}\nnode {\n  name: \"ones_like_9/tensor\"\n  op: \"Const\"\n  attr {\n    key: \"dtype\"\n    value {\n      type: DT_BOOL\n    }\n  }\n  attr {\n    key: \"value\"\n    value {\n      tensor {\n        dtype: DT_BOOL\n        tensor_shape {\n          dim {\n            size: 3\n          }\n          dim {\n            size: 3\n          }\n        }\n        bool_val: true\n        bool_val: false\n        bool_val: false\n        bool_val: false\n        bool_val: false\n        bool_val: true\n        bool_val: false\n        bool_val: true\n        bool_val: false\n      }\n    }\n  }\n}\nnode {\n  name: \"ones_like_9/Shape\"\n  op: \"Const\"\n  attr {\n    key: \"dtype\"\n    value {\n      type: DT_INT32\n    }\n  }\n  attr {\n    key: \"value\"\n    value {\n      tensor {\n        dtype: DT_INT32\n        tensor_shape {\n          dim {\n            size: 2\n          }\n        }\n        tensor_content: \"\\003\\000\\000\\000\\003\\000\\000\\000\"\n      }\n    }\n  }\n}\nnode {\n  name: \"ones_like_9/Const\"\n  op: \"Const\"\n  attr {\n    key: \"dtype\"\n    value {\n      type: DT_BOOL\n    }\n  }\n  attr {\n    key: \"value\"\n    value {\n      tensor {\n        dtype: DT_BOOL\n        tensor_shape {\n        }\n        bool_val: true\n      }\n    }\n  }\n}\nnode {\n  name: \"ones_like_9\"\n  op: \"Fill\"\n  input: \"ones_like_9/Shape\"\n  input: \"ones_like_9/Const\"\n  attr {\n    key: \"T\"\n    value {\n      type: DT_BOOL\n    }\n  }\n}\nnode {\n  name: \"zeros_like_10/tensor\"\n  op: \"Const\"\n  attr {\n    key: \"dtype\"\n    value {\n      type: DT_BOOL\n    }\n  }\n  attr {\n    key: \"value\"\n    value {\n      tensor {\n        dtype: DT_BOOL\n        tensor_shape {\n          dim {\n            size: 3\n          }\n          dim {\n            size: 3\n          }\n        }\n        bool_val: true\n        bool_val: false\n        bool_val: false\n        bool_val: false\n        bool_val: false\n        bool_val: true\n        bool_val: false\n        bool_val: true\n        bool_val: false\n      }\n    }\n  }\n}\nnode {\n  name: \"zeros_like_10\"\n  op: \"ZerosLike\"\n  input: \"zeros_like_10/tensor\"\n  attr {\n    key: \"T\"\n    value {\n      type: DT_BOOL\n    }\n  }\n}\nnode {\n  name: \"zeros\"\n  op: \"Const\"\n  attr {\n    key: \"dtype\"\n    value {\n      type: DT_INT32\n    }\n  }\n  attr {\n    key: \"value\"\n    value {\n      tensor {\n        dtype: DT_INT32\n        tensor_shape {\n          dim {\n            size: 2\n          }\n          dim {\n            size: 3\n          }\n        }\n        int_val: 0\n      }\n    }\n  }\n}\nnode {\n  name: \"zeros_1\"\n  op: \"Const\"\n  attr {\n    key: \"dtype\"\n    value {\n      type: DT_INT32\n    }\n  }\n  attr {\n    key: \"value\"\n    value {\n      tensor {\n        dtype: DT_INT32\n        tensor_shape {\n          dim {\n            size: 2\n          }\n          dim {\n            size: 3\n          }\n        }\n        int_val: 0\n      }\n    }\n  }\n}\nnode {\n  name: \"zeros_2\"\n  op: \"Const\"\n  attr {\n    key: \"dtype\"\n    value {\n      type: DT_INT32\n    }\n  }\n  attr {\n    key: \"value\"\n    value {\n      tensor {\n        dtype: DT_INT32\n        tensor_shape {\n          dim {\n            size: 2\n          }\n          dim {\n            size: 3\n          }\n        }\n        int_val: 0\n      }\n    }\n  }\n}\nnode {\n  name: \"my_const\"\n  op: \"Const\"\n  attr {\n    key: \"dtype\"\n    value {\n      type: DT_FLOAT\n    }\n  }\n  attr {\n    key: \"value\"\n    value {\n      tensor {\n        dtype: DT_FLOAT\n        tensor_shape {\n          dim {\n            size: 2\n          }\n        }\n        tensor_content: \"\\000\\000\\200?\\000\\000\\000@\"\n      }\n    }\n  }\n}\nversions {\n  producer: 21\n}\n\n"
     ]
    }
   ],
   "source": [
    "# Print out the graph def\n",
    "\n",
    "my_const = tf.constant([1.0,2.0], name=\"my_const\")\n",
    "\n",
    "print(sess.graph.as_graph_def())\n",
    "\n",
    "# Constants makes loading graphs expensive when they are big. As a thumb rule, we should only\n",
    "# use constants for primitive types.\n",
    "\n",
    "# We should use variables or readers for more data that requires more memory."
   ]
  },
  {
   "cell_type": "code",
   "execution_count": 29,
   "metadata": {},
   "outputs": [
    {
     "name": "stdout",
     "output_type": "stream",
     "text": [
      "<tf.Variable 'Variable_5:0' shape=(784, 10) dtype=float32_ref>\n"
     ]
    }
   ],
   "source": [
    "# Variables\n",
    "\n",
    "s = tf.Variable(2, name=\"scalar\")\n",
    "m = tf.Variable([[0,1],[2,3]], name=\"matrix\")\n",
    "w = tf.Variable(tf.zeros([784,10]))\n",
    "\n",
    "# create varaibles with tf.get_variable\n",
    "\n",
    "# s_get = tf.get_variable(\"scalar_get\", initializer=tf.constant(2))\n",
    "# m_get = tf.get_variable(\"matrix_get\", initializer=tf.constant([[0,1],[2,3]]))\n",
    "# w_get = tf.get_variable(\"big_matrix_get\", shape=(784,10), initializer = tf.zeros_initializer())\n",
    "\n",
    "# Initialize only a subset of variables\n",
    "# sess.run(tf.variables_initializer([a,b]))\n",
    "\n",
    "# Initialize a single variable\n",
    "sess.run(w.initializer)\n",
    "print(w)"
   ]
  },
  {
   "cell_type": "code",
   "execution_count": 31,
   "metadata": {},
   "outputs": [
    {
     "name": "stdout",
     "output_type": "stream",
     "text": [
      "[[-1.72831786  1.14954269  1.94494307 ...,  0.78394353 -0.28414121\n  -1.00032794]\n [ 0.05107353 -1.07789004 -1.40605223 ...,  0.48239845  0.4291659\n   0.96946239]\n [-0.43083116  0.3363086   0.55636716 ..., -0.0549511   1.66441095\n  -1.15616381]\n ..., \n [-0.12081058 -1.91476202  0.49617484 ..., -0.13954742  0.49001756\n  -1.55163884]\n [-0.56380677  0.46374005  0.39819387 ...,  1.70508981 -0.34309828\n   1.8094157 ]\n [ 1.18768835  0.1648322   0.45599633 ..., -0.66064614  0.17884301\n  -0.93751699]]\n"
     ]
    }
   ],
   "source": [
    "# Eval a variable\n",
    "\n",
    "w = tf.Variable(tf.truncated_normal([700,10]))\n",
    "with tf.Session() as sess:\n",
    "    sess.run(w.initializer)\n",
    "    print(w.eval())"
   ]
  },
  {
   "cell_type": "code",
   "execution_count": 6,
   "metadata": {
    "collapsed": true
   },
   "outputs": [
    {
     "name": "stdout",
     "output_type": "stream",
     "text": [
      "8\n16\n100\n"
     ]
    }
   ],
   "source": [
    "# tf.Variable.assign()\n",
    "\n",
    "w = tf.Variable(10)\n",
    "v = tf.Variable(2)\n",
    "v_assign = v.assign(2 * v)\n",
    "assign_op = w.assign(100)\n",
    "with tf.Session() as sess:\n",
    "    sess.run(w.initializer)\n",
    "    sess.run(assign_op)\n",
    "    sess.run(v.initializer)\n",
    "    sess.run(v_assign)\n",
    "    print(sess.run(v_assign))\n",
    "    print(sess.run(v_assign))\n",
    "    print(w.eval())"
   ]
  },
  {
   "cell_type": "code",
   "execution_count": 5,
   "metadata": {},
   "outputs": [
    {
     "name": "stdout",
     "output_type": "stream",
     "text": [
      "4\n8\n"
     ]
    }
   ],
   "source": [
    "# tf.Variable.assign()\n",
    "\n",
    "# create a variable whose intial vale is 2 \n",
    "my_var = tf.Variable(2, name=\"my_var\")\n",
    "\n",
    "#assign a*2 to a and call that op a_times_two\n",
    "my_var_times_two = my_var.assign(2 * my_var)\n",
    "\n",
    "with tf.Session() as sess:\n",
    "    sess.run(my_var.initializer)\n",
    "    print(sess.run(my_var_times_two))\n",
    "    print(sess.run(my_var_times_two))"
   ]
  },
  {
   "cell_type": "code",
   "execution_count": 9,
   "metadata": {},
   "outputs": [
    {
     "name": "stdout",
     "output_type": "stream",
     "text": [
      "20\n18\n"
     ]
    }
   ],
   "source": [
    "# assign_add() and assign_sub()\n",
    "\n",
    "my_var = tf.Variable(10)\n",
    "\n",
    "with tf.Session() as sess:\n",
    "    sess.run(my_var.initializer)\n",
    "    \n",
    "    print(sess.run(my_var.assign_add(10)))\n",
    "    \n",
    "    print(sess.run(my_var.assign_sub(2)))"
   ]
  },
  {
   "cell_type": "code",
   "execution_count": 11,
   "metadata": {},
   "outputs": [
    {
     "name": "stdout",
     "output_type": "stream",
     "text": [
      "20\n8\n"
     ]
    }
   ],
   "source": [
    "# Each Session maintains its own copy of variables\n",
    "\n",
    "W = tf.Variable(10)\n",
    "\n",
    "sess1 = tf.Session()\n",
    "sess2 = tf.Session()\n",
    "\n",
    "sess1.run(W.initializer)\n",
    "sess2.run(W.initializer)\n",
    "\n",
    "print(sess1.run(W.assign_add(10)))\n",
    "print(sess2.run(W.assign_sub(2)))\n",
    "\n",
    "sess1.close()\n",
    "sess2.close()"
   ]
  },
  {
   "cell_type": "code",
   "execution_count": 14,
   "metadata": {},
   "outputs": [
    {
     "name": "stdout",
     "output_type": "stream",
     "text": [
      "30\n11\n"
     ]
    }
   ],
   "source": [
    "# Control Dependencies \n",
    "# TODO Need to read this part \n",
    "\n",
    "a = tf.constant(5)\n",
    "b = tf.constant(6)\n",
    "c = tf.multiply(a,b)\n",
    "d = tf.add(a,b)\n",
    "e = tf.subtract(a,b)\n",
    "\n",
    "g = tf.get_default_graph()\n",
    "\n",
    "with g.control_dependencies([a,b,c]):\n",
    "    sess = tf.Session(config=tf.ConfigProto(log_device_placement=True))\n",
    "    print(sess.run(c))\n",
    "    print(sess.run(d))   \n",
    "    sess.close()"
   ]
  },
  {
   "cell_type": "markdown",
   "metadata": {},
   "source": []
  },
  {
   "cell_type": "code",
   "execution_count": 6,
   "metadata": {},
   "outputs": [
    {
     "name": "stdout",
     "output_type": "stream",
     "text": [
      "[6. 7. 8.]\n"
     ]
    }
   ],
   "source": [
    "# Placeholders\n",
    "# tf.placeholder(dtype, shape=None, name=None)\n",
    "\n",
    "# create a placeholder for a vector of 3 elements, type tf.float32\n",
    "a = tf.placeholder(tf.float32, shape=[3])\n",
    "\n",
    "b = tf.constant([5,5,5], tf.float32)\n",
    "\n",
    "c = a + b\n",
    "\n",
    "with tf.Session() as sess:\n",
    "    print(sess.run(c, feed_dict={a: [1,2,3]}))"
   ]
  },
  {
   "cell_type": "code",
   "execution_count": 7,
   "metadata": {},
   "outputs": [
    {
     "name": "stdout",
     "output_type": "stream",
     "text": [
      "45\n"
     ]
    }
   ],
   "source": [
    "# Feeding values to TF ops\n",
    "# Helpful for testing\n",
    "\n",
    "a = tf.add(3,5)\n",
    "b = tf.multiply(a, 3)\n",
    "\n",
    "with tf.Session() as sess:\n",
    "    print(sess.run(b, feed_dict={a : 15}))"
   ]
  },
  {
   "cell_type": "heading",
   "metadata": {},
   "level": 1,
   "source": [
    "Lazy Loading Example"
   ]
  },
  {
   "cell_type": "code",
   "execution_count": 2,
   "metadata": {},
   "outputs": [],
   "source": [
    "# Normal Loading\n",
    "\n",
    "x = tf.Variable(10, name='x')\n",
    "y = tf.Variable(20, name='y')\n",
    "z = tf.add(x,y)\n",
    "\n",
    "writer = tf.summary.FileWriter('./graphs/normal_loading', tf.get_default_graph())\n",
    "with tf.Session() as sess:\n",
    "    sess.run(tf.global_variables_initializer())\n",
    "    for _ in range(10):\n",
    "        sess.run(z)\n",
    "\n",
    "writer.close()\n"
   ]
  },
  {
   "cell_type": "code",
   "execution_count": 1,
   "metadata": {},
   "outputs": [],
   "source": [
    "# Lazy Loading\n",
    "import tensorflow as tf\n",
    "x = tf.Variable(10, name='x')\n",
    "y = tf.Variable(20, name='y')\n",
    "\n",
    "writer = tf.summary.FileWriter('./graphs/lazy_loading', tf.get_default_graph())\n",
    "with tf.Session() as sess:\n",
    "    sess.run(tf.global_variables_initializer())\n",
    "    for _ in range(10):\n",
    "        sess.run(tf.add(x,y,name='lazy_add'))\n",
    "\n",
    "writer.close()"
   ]
  },
  {
   "cell_type": "markdown",
   "metadata": {},
   "source": [
    "In Lazy Loading \"Add\" added 20 times to graph definition.\n",
    "\n",
    "Solution:\n",
    "1. Separate definition of ops from computing/running ops\n",
    "2. Use Python property to ensure function is also loaded once the first time it is called.\n",
    "\n",
    "So we should avoid lazy loading."
   ]
  },
  {
   "cell_type": "code",
   "execution_count": null,
   "metadata": {},
   "outputs": [
    {
     "name": "stdout",
     "output_type": "stream",
     "text": [
      "5.0\n"
     ]
    },
    {
     "name": "stderr",
     "output_type": "stream",
     "text": [
      "C:\\Users\\m.kumar\\AppData\\Local\\Programs\\Python\\Python36\\lib\\site-packages\\tensorflow\\python\\client\\session.py:1711: UserWarning: An interactive session is already active. This can cause out-of-memory errors in some cases. You must explicitly call `InteractiveSession.close()` to release resources held by the other session(s).\n  warnings.warn('An interactive session is already active. This can '\n"
     ]
    }
   ],
   "source": [
    "import tensorflow as tf\n",
    "sess1 = tf.InteractiveSession()\n",
    "a = tf.constant(5.0)\n",
    "print(a.eval())\n",
    "tf.InteractiveSession().close()\n",
    "sess.close()"
   ]
  },
  {
   "cell_type": "code",
   "execution_count": null,
   "metadata": {},
   "outputs": [],
   "source": []
  }
 ],
 "metadata": {
  "kernelspec": {
   "display_name": "Python 2",
   "language": "python",
   "name": "python2"
  },
  "language_info": {
   "codemirror_mode": {
    "name": "ipython",
    "version": 2
   },
   "file_extension": ".py",
   "mimetype": "text/x-python",
   "name": "python",
   "nbconvert_exporter": "python",
   "pygments_lexer": "ipython2",
   "version": "2.7.6"
  }
 },
 "nbformat": 4,
 "nbformat_minor": 0
}
