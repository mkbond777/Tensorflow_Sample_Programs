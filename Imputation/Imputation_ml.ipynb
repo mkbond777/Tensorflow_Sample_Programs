{
 "cells": [
  {
   "cell_type": "code",
   "execution_count": 14,
   "metadata": {},
   "outputs": [],
   "source": [
    "# Import imputation data\n",
    "import pandas as pd\n",
    "cols=['shop_id','fcc','trans_typ','period_number','atc_4_cd','atc_3_cd','atc_2_cd','atc_1_cd','kvb_code','kv_code','federal_state_code','national_code','classification','past_periods_tx_cnt','curr_period_tx_cnt']\n",
    "data = pd.read_csv(\"data_with_all_attribute.csv\",names=cols)"
   ]
  },
  {
   "cell_type": "code",
   "execution_count": 15,
   "metadata": {},
   "outputs": [
    {
     "data": {
      "text/html": [
       "<div>\n",
       "<style scoped>\n",
       "    .dataframe tbody tr th:only-of-type {\n",
       "        vertical-align: middle;\n",
       "    }\n",
       "\n",
       "    .dataframe tbody tr th {\n",
       "        vertical-align: top;\n",
       "    }\n",
       "\n",
       "    .dataframe thead th {\n",
       "        text-align: right;\n",
       "    }\n",
       "</style>\n",
       "<table border=\"1\" class=\"dataframe\">\n",
       "  <thead>\n",
       "    <tr style=\"text-align: right;\">\n",
       "      <th></th>\n",
       "      <th>shop_id</th>\n",
       "      <th>fcc</th>\n",
       "      <th>trans_typ</th>\n",
       "      <th>period_number</th>\n",
       "      <th>atc_4_cd</th>\n",
       "      <th>atc_3_cd</th>\n",
       "      <th>atc_2_cd</th>\n",
       "      <th>atc_1_cd</th>\n",
       "      <th>kvb_code</th>\n",
       "      <th>kv_code</th>\n",
       "      <th>federal_state_code</th>\n",
       "      <th>national_code</th>\n",
       "      <th>classification</th>\n",
       "      <th>past_periods_tx_cnt</th>\n",
       "      <th>curr_period_tx_cnt</th>\n",
       "    </tr>\n",
       "  </thead>\n",
       "  <tbody>\n",
       "    <tr>\n",
       "      <th>0</th>\n",
       "      <td>1003</td>\n",
       "      <td>1269</td>\n",
       "      <td>P</td>\n",
       "      <td>20171229</td>\n",
       "      <td>N02B2</td>\n",
       "      <td>N02B</td>\n",
       "      <td>N02</td>\n",
       "      <td>N</td>\n",
       "      <td>6</td>\n",
       "      <td>17</td>\n",
       "      <td>3</td>\n",
       "      <td>1</td>\n",
       "      <td>TOP</td>\n",
       "      <td>1.0</td>\n",
       "      <td>0.0</td>\n",
       "    </tr>\n",
       "    <tr>\n",
       "      <th>1</th>\n",
       "      <td>1003</td>\n",
       "      <td>2019</td>\n",
       "      <td>Q</td>\n",
       "      <td>20180105</td>\n",
       "      <td>N02B2</td>\n",
       "      <td>N02B</td>\n",
       "      <td>N02</td>\n",
       "      <td>N</td>\n",
       "      <td>6</td>\n",
       "      <td>17</td>\n",
       "      <td>3</td>\n",
       "      <td>1</td>\n",
       "      <td>OTHER</td>\n",
       "      <td>1.0</td>\n",
       "      <td>0.0</td>\n",
       "    </tr>\n",
       "    <tr>\n",
       "      <th>2</th>\n",
       "      <td>1003</td>\n",
       "      <td>2881</td>\n",
       "      <td>R</td>\n",
       "      <td>20180126</td>\n",
       "      <td>D07B3</td>\n",
       "      <td>D07B</td>\n",
       "      <td>D07</td>\n",
       "      <td>D</td>\n",
       "      <td>6</td>\n",
       "      <td>17</td>\n",
       "      <td>3</td>\n",
       "      <td>1</td>\n",
       "      <td>OTHER</td>\n",
       "      <td>0.0</td>\n",
       "      <td>1.0</td>\n",
       "    </tr>\n",
       "    <tr>\n",
       "      <th>3</th>\n",
       "      <td>1003</td>\n",
       "      <td>5174</td>\n",
       "      <td>P</td>\n",
       "      <td>20180112</td>\n",
       "      <td>Y08A1</td>\n",
       "      <td>Y08A</td>\n",
       "      <td>Y08</td>\n",
       "      <td>Y</td>\n",
       "      <td>6</td>\n",
       "      <td>17</td>\n",
       "      <td>3</td>\n",
       "      <td>1</td>\n",
       "      <td>OTHER</td>\n",
       "      <td>1.0</td>\n",
       "      <td>0.0</td>\n",
       "    </tr>\n",
       "    <tr>\n",
       "      <th>4</th>\n",
       "      <td>1003</td>\n",
       "      <td>7070</td>\n",
       "      <td>P</td>\n",
       "      <td>20180126</td>\n",
       "      <td>B03A1</td>\n",
       "      <td>B03A</td>\n",
       "      <td>B03</td>\n",
       "      <td>B</td>\n",
       "      <td>6</td>\n",
       "      <td>17</td>\n",
       "      <td>3</td>\n",
       "      <td>1</td>\n",
       "      <td>TOP</td>\n",
       "      <td>0.0</td>\n",
       "      <td>1.0</td>\n",
       "    </tr>\n",
       "  </tbody>\n",
       "</table>\n",
       "</div>"
      ],
      "text/plain": [
       "   shop_id   fcc trans_typ  period_number atc_4_cd atc_3_cd atc_2_cd atc_1_cd  \\\n",
       "0     1003  1269         P       20171229    N02B2     N02B      N02        N   \n",
       "1     1003  2019         Q       20180105    N02B2     N02B      N02        N   \n",
       "2     1003  2881         R       20180126    D07B3     D07B      D07        D   \n",
       "3     1003  5174         P       20180112    Y08A1     Y08A      Y08        Y   \n",
       "4     1003  7070         P       20180126    B03A1     B03A      B03        B   \n",
       "\n",
       "   kvb_code  kv_code  federal_state_code  national_code classification  \\\n",
       "0         6       17                   3              1            TOP   \n",
       "1         6       17                   3              1          OTHER   \n",
       "2         6       17                   3              1          OTHER   \n",
       "3         6       17                   3              1          OTHER   \n",
       "4         6       17                   3              1            TOP   \n",
       "\n",
       "   past_periods_tx_cnt  curr_period_tx_cnt  \n",
       "0                  1.0                 0.0  \n",
       "1                  1.0                 0.0  \n",
       "2                  0.0                 1.0  \n",
       "3                  1.0                 0.0  \n",
       "4                  0.0                 1.0  "
      ]
     },
     "execution_count": 15,
     "metadata": {},
     "output_type": "execute_result"
    }
   ],
   "source": [
    "data.head(5)\n",
    "# FACT - Transaction Data\n",
    "# PRODUCT - Product related hierarchy (ex - ATC Classification)\n",
    "# GEOGRAPHY - Supplier/Pharmacy realted hierarchy (ex - state, zip code, TRA, SRA)\n",
    "# TIME - date hierarchy"
   ]
  },
  {
   "cell_type": "code",
   "execution_count": null,
   "metadata": {},
   "outputs": [],
   "source": [
    "import pandas as pd\n",
    "from sklearn.preprocessing import LabelEncoder\n",
    "from sklearn.pipeline import Pipeline\n",
    "\n",
    "class MultiColumnLabelEncoder:\n",
    "    def __init__(self,columns = None):\n",
    "        self.columns = columns # array of column names to encode\n",
    "\n",
    "    def fit(self,X,y=None):\n",
    "        return self # not relevant here\n",
    "\n",
    "    def transform(self,X):\n",
    "        '''\n",
    "        Transforms columns of X specified in self.columns using\n",
    "        LabelEncoder(). If no columns specified, transforms all\n",
    "        columns in X.\n",
    "        '''\n",
    "        output = X.copy()\n",
    "        if self.columns is not None:\n",
    "            for col in self.columns:\n",
    "                output[col] = LabelEncoder().fit_transform(output[col])\n",
    "        else:\n",
    "            for colname,col in output.iteritems():\n",
    "                output[colname] = LabelEncoder().fit_transform(col)\n",
    "        return output\n",
    "\n",
    "    def fit_transform(self,X,y=None):\n",
    "        return self.fit(X,y).transform(X)"
   ]
  },
  {
   "cell_type": "code",
   "execution_count": null,
   "metadata": {},
   "outputs": [],
   "source": [
    "data_useful_columns = data.drop(['shop_id'],axis=1).drop(['fcc'],axis=1)\n"
   ]
  },
  {
   "cell_type": "code",
   "execution_count": null,
   "metadata": {},
   "outputs": [],
   "source": [
    "# Encoding String to Numbers\n",
    "transformed_data = MultiColumnLabelEncoder(columns = ['trans_typ','period_number','atc_4_cd','atc_3_cd','atc_2_cd',\n",
    "                                                     'atc_1_cd','classification']).fit_transform(data_useful_columns)\n",
    "transformed_data.head(5)"
   ]
  },
  {
   "cell_type": "code",
   "execution_count": null,
   "metadata": {},
   "outputs": [],
   "source": [
    "transformed_data = transformed_data.drop_duplicates()"
   ]
  },
  {
   "cell_type": "code",
   "execution_count": null,
   "metadata": {},
   "outputs": [],
   "source": [
    "transformed_data.shape"
   ]
  },
  {
   "cell_type": "code",
   "execution_count": null,
   "metadata": {},
   "outputs": [],
   "source": [
    "# Saving encoded data\n",
    "transformed_data.to_csv(\"imputation_ml_transformed_data.csv\")"
   ]
  },
  {
   "cell_type": "code",
   "execution_count": 2,
   "metadata": {},
   "outputs": [],
   "source": [
    "# Readng Encoded data\n",
    "import pandas as pd\n",
    "en_data = pd.read_csv(\"imputation_ml_transformed_data.csv\").drop(['Unnamed: 0'],axis=1)"
   ]
  },
  {
   "cell_type": "code",
   "execution_count": 3,
   "metadata": {},
   "outputs": [
    {
     "data": {
      "text/html": [
       "<div>\n",
       "<style scoped>\n",
       "    .dataframe tbody tr th:only-of-type {\n",
       "        vertical-align: middle;\n",
       "    }\n",
       "\n",
       "    .dataframe tbody tr th {\n",
       "        vertical-align: top;\n",
       "    }\n",
       "\n",
       "    .dataframe thead th {\n",
       "        text-align: right;\n",
       "    }\n",
       "</style>\n",
       "<table border=\"1\" class=\"dataframe\">\n",
       "  <thead>\n",
       "    <tr style=\"text-align: right;\">\n",
       "      <th></th>\n",
       "      <th>trans_typ</th>\n",
       "      <th>period_number</th>\n",
       "      <th>atc_4_cd</th>\n",
       "      <th>atc_3_cd</th>\n",
       "      <th>atc_2_cd</th>\n",
       "      <th>atc_1_cd</th>\n",
       "      <th>kvb_code</th>\n",
       "      <th>kv_code</th>\n",
       "      <th>federal_state_code</th>\n",
       "      <th>national_code</th>\n",
       "      <th>classification</th>\n",
       "      <th>past_periods_tx_cnt</th>\n",
       "      <th>curr_period_tx_cnt</th>\n",
       "    </tr>\n",
       "  </thead>\n",
       "  <tbody>\n",
       "    <tr>\n",
       "      <th>0</th>\n",
       "      <td>0</td>\n",
       "      <td>0</td>\n",
       "      <td>397</td>\n",
       "      <td>224</td>\n",
       "      <td>72</td>\n",
       "      <td>10</td>\n",
       "      <td>6</td>\n",
       "      <td>17</td>\n",
       "      <td>3</td>\n",
       "      <td>1</td>\n",
       "      <td>1</td>\n",
       "      <td>1.0</td>\n",
       "      <td>0.0</td>\n",
       "    </tr>\n",
       "    <tr>\n",
       "      <th>1</th>\n",
       "      <td>1</td>\n",
       "      <td>1</td>\n",
       "      <td>397</td>\n",
       "      <td>224</td>\n",
       "      <td>72</td>\n",
       "      <td>10</td>\n",
       "      <td>6</td>\n",
       "      <td>17</td>\n",
       "      <td>3</td>\n",
       "      <td>1</td>\n",
       "      <td>0</td>\n",
       "      <td>1.0</td>\n",
       "      <td>0.0</td>\n",
       "    </tr>\n",
       "    <tr>\n",
       "      <th>2</th>\n",
       "      <td>2</td>\n",
       "      <td>4</td>\n",
       "      <td>192</td>\n",
       "      <td>110</td>\n",
       "      <td>36</td>\n",
       "      <td>3</td>\n",
       "      <td>6</td>\n",
       "      <td>17</td>\n",
       "      <td>3</td>\n",
       "      <td>1</td>\n",
       "      <td>0</td>\n",
       "      <td>0.0</td>\n",
       "      <td>1.0</td>\n",
       "    </tr>\n",
       "    <tr>\n",
       "      <th>3</th>\n",
       "      <td>0</td>\n",
       "      <td>2</td>\n",
       "      <td>795</td>\n",
       "      <td>384</td>\n",
       "      <td>109</td>\n",
       "      <td>17</td>\n",
       "      <td>6</td>\n",
       "      <td>17</td>\n",
       "      <td>3</td>\n",
       "      <td>1</td>\n",
       "      <td>0</td>\n",
       "      <td>1.0</td>\n",
       "      <td>0.0</td>\n",
       "    </tr>\n",
       "    <tr>\n",
       "      <th>4</th>\n",
       "      <td>0</td>\n",
       "      <td>4</td>\n",
       "      <td>119</td>\n",
       "      <td>65</td>\n",
       "      <td>17</td>\n",
       "      <td>1</td>\n",
       "      <td>6</td>\n",
       "      <td>17</td>\n",
       "      <td>3</td>\n",
       "      <td>1</td>\n",
       "      <td>1</td>\n",
       "      <td>0.0</td>\n",
       "      <td>1.0</td>\n",
       "    </tr>\n",
       "  </tbody>\n",
       "</table>\n",
       "</div>"
      ],
      "text/plain": [
       "   trans_typ  period_number  atc_4_cd  atc_3_cd  atc_2_cd  atc_1_cd  kvb_code  \\\n",
       "0          0              0       397       224        72        10         6   \n",
       "1          1              1       397       224        72        10         6   \n",
       "2          2              4       192       110        36         3         6   \n",
       "3          0              2       795       384       109        17         6   \n",
       "4          0              4       119        65        17         1         6   \n",
       "\n",
       "   kv_code  federal_state_code  national_code  classification  \\\n",
       "0       17                   3              1               1   \n",
       "1       17                   3              1               0   \n",
       "2       17                   3              1               0   \n",
       "3       17                   3              1               0   \n",
       "4       17                   3              1               1   \n",
       "\n",
       "   past_periods_tx_cnt  curr_period_tx_cnt  \n",
       "0                  1.0                 0.0  \n",
       "1                  1.0                 0.0  \n",
       "2                  0.0                 1.0  \n",
       "3                  1.0                 0.0  \n",
       "4                  0.0                 1.0  "
      ]
     },
     "execution_count": 3,
     "metadata": {},
     "output_type": "execute_result"
    }
   ],
   "source": [
    "en_data.head(5)"
   ]
  },
  {
   "cell_type": "code",
   "execution_count": 16,
   "metadata": {},
   "outputs": [],
   "source": [
    "Y_temp = en_data[['curr_period_tx_cnt']]\n",
    "en_data_X = en_data.drop(['curr_period_tx_cnt'],axis=1)"
   ]
  },
  {
   "cell_type": "code",
   "execution_count": null,
   "metadata": {},
   "outputs": [],
   "source": [
    "en_data_X.atc_4_cd.unique()"
   ]
  },
  {
   "cell_type": "code",
   "execution_count": 17,
   "metadata": {},
   "outputs": [],
   "source": [
    "# Normalizing Data \n",
    "from sklearn import preprocessing\n",
    "\n",
    "x = en_data_X.values #returns a numpy array\n",
    "min_max_scaler = preprocessing.MinMaxScaler()\n",
    "x_scaled = min_max_scaler.fit_transform(x)\n",
    "df = pd.DataFrame(x_scaled)\n",
    "df.columns = ['trans_typ','period_number','atc_4_cd','atc_3_cd','atc_2_cd','atc_1_cd','kvb_code','kv_code','federal_state_code','national_code','classification','past_periods_tx_cnt']"
   ]
  },
  {
   "cell_type": "code",
   "execution_count": 18,
   "metadata": {},
   "outputs": [
    {
     "data": {
      "text/html": [
       "<div>\n",
       "<style scoped>\n",
       "    .dataframe tbody tr th:only-of-type {\n",
       "        vertical-align: middle;\n",
       "    }\n",
       "\n",
       "    .dataframe tbody tr th {\n",
       "        vertical-align: top;\n",
       "    }\n",
       "\n",
       "    .dataframe thead th {\n",
       "        text-align: right;\n",
       "    }\n",
       "</style>\n",
       "<table border=\"1\" class=\"dataframe\">\n",
       "  <thead>\n",
       "    <tr style=\"text-align: right;\">\n",
       "      <th></th>\n",
       "      <th>trans_typ</th>\n",
       "      <th>period_number</th>\n",
       "      <th>atc_4_cd</th>\n",
       "      <th>atc_3_cd</th>\n",
       "      <th>atc_2_cd</th>\n",
       "      <th>atc_1_cd</th>\n",
       "      <th>kvb_code</th>\n",
       "      <th>kv_code</th>\n",
       "      <th>federal_state_code</th>\n",
       "      <th>national_code</th>\n",
       "      <th>classification</th>\n",
       "      <th>past_periods_tx_cnt</th>\n",
       "    </tr>\n",
       "  </thead>\n",
       "  <tbody>\n",
       "    <tr>\n",
       "      <th>0</th>\n",
       "      <td>0.0</td>\n",
       "      <td>0.00</td>\n",
       "      <td>0.493781</td>\n",
       "      <td>0.581818</td>\n",
       "      <td>0.654545</td>\n",
       "      <td>0.588235</td>\n",
       "      <td>0.052632</td>\n",
       "      <td>0.164948</td>\n",
       "      <td>0.133333</td>\n",
       "      <td>0.0</td>\n",
       "      <td>1.0</td>\n",
       "      <td>0.001155</td>\n",
       "    </tr>\n",
       "    <tr>\n",
       "      <th>1</th>\n",
       "      <td>0.5</td>\n",
       "      <td>0.25</td>\n",
       "      <td>0.493781</td>\n",
       "      <td>0.581818</td>\n",
       "      <td>0.654545</td>\n",
       "      <td>0.588235</td>\n",
       "      <td>0.052632</td>\n",
       "      <td>0.164948</td>\n",
       "      <td>0.133333</td>\n",
       "      <td>0.0</td>\n",
       "      <td>0.0</td>\n",
       "      <td>0.001155</td>\n",
       "    </tr>\n",
       "    <tr>\n",
       "      <th>2</th>\n",
       "      <td>1.0</td>\n",
       "      <td>1.00</td>\n",
       "      <td>0.238806</td>\n",
       "      <td>0.285714</td>\n",
       "      <td>0.327273</td>\n",
       "      <td>0.176471</td>\n",
       "      <td>0.052632</td>\n",
       "      <td>0.164948</td>\n",
       "      <td>0.133333</td>\n",
       "      <td>0.0</td>\n",
       "      <td>0.0</td>\n",
       "      <td>0.000000</td>\n",
       "    </tr>\n",
       "    <tr>\n",
       "      <th>3</th>\n",
       "      <td>0.0</td>\n",
       "      <td>0.50</td>\n",
       "      <td>0.988806</td>\n",
       "      <td>0.997403</td>\n",
       "      <td>0.990909</td>\n",
       "      <td>1.000000</td>\n",
       "      <td>0.052632</td>\n",
       "      <td>0.164948</td>\n",
       "      <td>0.133333</td>\n",
       "      <td>0.0</td>\n",
       "      <td>0.0</td>\n",
       "      <td>0.001155</td>\n",
       "    </tr>\n",
       "    <tr>\n",
       "      <th>4</th>\n",
       "      <td>0.0</td>\n",
       "      <td>1.00</td>\n",
       "      <td>0.148010</td>\n",
       "      <td>0.168831</td>\n",
       "      <td>0.154545</td>\n",
       "      <td>0.058824</td>\n",
       "      <td>0.052632</td>\n",
       "      <td>0.164948</td>\n",
       "      <td>0.133333</td>\n",
       "      <td>0.0</td>\n",
       "      <td>1.0</td>\n",
       "      <td>0.000000</td>\n",
       "    </tr>\n",
       "  </tbody>\n",
       "</table>\n",
       "</div>"
      ],
      "text/plain": [
       "   trans_typ  period_number  atc_4_cd  atc_3_cd  atc_2_cd  atc_1_cd  kvb_code  \\\n",
       "0        0.0           0.00  0.493781  0.581818  0.654545  0.588235  0.052632   \n",
       "1        0.5           0.25  0.493781  0.581818  0.654545  0.588235  0.052632   \n",
       "2        1.0           1.00  0.238806  0.285714  0.327273  0.176471  0.052632   \n",
       "3        0.0           0.50  0.988806  0.997403  0.990909  1.000000  0.052632   \n",
       "4        0.0           1.00  0.148010  0.168831  0.154545  0.058824  0.052632   \n",
       "\n",
       "    kv_code  federal_state_code  national_code  classification  \\\n",
       "0  0.164948            0.133333            0.0             1.0   \n",
       "1  0.164948            0.133333            0.0             0.0   \n",
       "2  0.164948            0.133333            0.0             0.0   \n",
       "3  0.164948            0.133333            0.0             0.0   \n",
       "4  0.164948            0.133333            0.0             1.0   \n",
       "\n",
       "   past_periods_tx_cnt  \n",
       "0             0.001155  \n",
       "1             0.001155  \n",
       "2             0.000000  \n",
       "3             0.001155  \n",
       "4             0.000000  "
      ]
     },
     "execution_count": 18,
     "metadata": {},
     "output_type": "execute_result"
    }
   ],
   "source": [
    "df.head(5)"
   ]
  },
  {
   "cell_type": "code",
   "execution_count": 19,
   "metadata": {},
   "outputs": [],
   "source": [
    "# Segregating data into X and Y\n",
    "Y = Y_temp\n",
    "X = df"
   ]
  },
  {
   "cell_type": "code",
   "execution_count": 20,
   "metadata": {},
   "outputs": [
    {
     "name": "stdout",
     "output_type": "stream",
     "text": [
      "(1329974, 1)\n",
      "(1329974, 12)\n"
     ]
    }
   ],
   "source": [
    "# Checks on X and Y\n",
    "\n",
    "print(Y.shape)\n",
    "print(X.shape)"
   ]
  },
  {
   "cell_type": "code",
   "execution_count": 21,
   "metadata": {},
   "outputs": [],
   "source": [
    "# Train and Test Set\n",
    "import sklearn.model_selection as sk\n",
    "X_train, X_test, Y_train, Y_test = sk.train_test_split(X, Y, test_size=0.30)"
   ]
  },
  {
   "cell_type": "code",
   "execution_count": 22,
   "metadata": {},
   "outputs": [
    {
     "name": "stdout",
     "output_type": "stream",
     "text": [
      "(930981, 12)\n",
      "(398993, 12)\n",
      "(930981, 1)\n",
      "(398993, 1)\n"
     ]
    }
   ],
   "source": [
    "#Check on Train an Test Set\n",
    "print(X_train.shape)\n",
    "print(X_test.shape)\n",
    "print(Y_train.shape)\n",
    "print(Y_test.shape)"
   ]
  },
  {
   "cell_type": "code",
   "execution_count": 23,
   "metadata": {},
   "outputs": [
    {
     "name": "stdout",
     "output_type": "stream",
     "text": [
      "12 930981\n"
     ]
    }
   ],
   "source": [
    "# Number of features\n",
    "num_features = X.shape[1]\n",
    "num_rows = X_train.shape[0]\n",
    "print(str(num_features) + \" \" + str(num_rows))"
   ]
  },
  {
   "cell_type": "code",
   "execution_count": 69,
   "metadata": {},
   "outputs": [
    {
     "name": "stdout",
     "output_type": "stream",
     "text": [
      "(?, 12)\n"
     ]
    }
   ],
   "source": [
    "import tensorflow as tf\n",
    "tf.reset_default_graph() \n",
    "# Step 2: create placeholders for X (imputation features) and Y (transactions)\n",
    "X_placeholder = tf.placeholder(tf.float32, shape=(None,num_features), name='imp_features')\n",
    "Y_placeholder = tf.placeholder(tf.float32, shape=(None,1), name='transactions')\n",
    "print(X_placeholder.shape)"
   ]
  },
  {
   "cell_type": "code",
   "execution_count": 70,
   "metadata": {},
   "outputs": [
    {
     "name": "stdout",
     "output_type": "stream",
     "text": [
      "(12, 1)\n"
     ]
    }
   ],
   "source": [
    "# Step 3: create weight and bias, initialized to 0.0\n",
    "# Make sure to use tf.get_variable\n",
    "\n",
    "w = tf.get_variable(\"weight\", shape=(num_features,1), initializer=tf.zeros_initializer())\n",
    "b = tf.get_variable(\"bias\", shape=[], initializer=tf.zeros_initializer())\n",
    "print(w.shape)"
   ]
  },
  {
   "cell_type": "code",
   "execution_count": 71,
   "metadata": {},
   "outputs": [
    {
     "name": "stdout",
     "output_type": "stream",
     "text": [
      "(?, 1)\n"
     ]
    }
   ],
   "source": [
    "# Step 4: build model to predict Y\n",
    "# e.g. how would you derive at Y_predicted given X, w, and b\n",
    "Y_predicted = tf.add(tf.matmul(X_placeholder,w),b)\n",
    "print(Y_predicted.shape)"
   ]
  },
  {
   "cell_type": "code",
   "execution_count": 73,
   "metadata": {},
   "outputs": [],
   "source": [
    "# Step 5: use the mean square error as the loss function\n",
    "loss = tf.reduce_mean(tf.square(tf.subtract(Y_placeholder,Y_predicted)), name = 'loss')"
   ]
  },
  {
   "cell_type": "code",
   "execution_count": 77,
   "metadata": {},
   "outputs": [],
   "source": [
    "# Step 6: using gradient descent with learning rate of 0.001 to minimize loss\n",
    "optimizer = tf.train.GradientDescentOptimizer(0.001).minimize(loss)"
   ]
  },
  {
   "cell_type": "code",
   "execution_count": 78,
   "metadata": {},
   "outputs": [
    {
     "name": "stdout",
     "output_type": "stream",
     "text": [
      "Epoch 0: 11.612269401550293\n",
      "Epoch 10: 11.498550415039062\n",
      "Epoch 20: 11.397409439086914\n",
      "Epoch 30: 11.313972473144531\n",
      "Epoch 40: 11.24341869354248\n",
      "Epoch 50: 11.181818008422852\n",
      "Epoch 60: 11.125988006591797\n",
      "Epoch 70: 11.076213836669922\n",
      "Epoch 80: 11.032707214355469\n",
      "Epoch 90: 10.994501113891602\n",
      "Epoch 100: 10.960685729980469\n",
      "Epoch 110: 10.930789947509766\n",
      "Epoch 120: 10.90427017211914\n",
      "Epoch 130: 10.880675315856934\n",
      "Epoch 140: 10.859549522399902\n",
      "Epoch 150: 10.840557098388672\n",
      "Epoch 160: 10.823464393615723\n",
      "Epoch 170: 10.808103561401367\n",
      "Epoch 180: 10.79406452178955\n",
      "Epoch 190: 10.781224250793457\n",
      "w = [[ 0.07077146]\n",
      " [ 0.23239918]\n",
      " [ 0.0751486 ]\n",
      " [ 0.08666574]\n",
      " [ 0.09330966]\n",
      " [ 0.08482331]\n",
      " [ 0.07201794]\n",
      " [ 0.07658242]\n",
      " [ 0.06518528]\n",
      " [ 0.        ]\n",
      " [ 0.13289766]\n",
      " [-0.0005422 ]], b = 0.16246165\n"
     ]
    }
   ],
   "source": [
    "with tf.Session() as sess:\n",
    "    # Step 7: initialize the necessary variables, in this case, w and b\n",
    "    sess.run(tf.global_variables_initializer())\n",
    "    w_out, b_out = sess.run([w, b])\n",
    "    #print(\"w initial  = %s, b initial = %s\" % (w_out, b_out))\n",
    "\n",
    "    # Step 8: train the model for 100 epochs\n",
    "    for i in range(200):\n",
    "        total_loss = 0\n",
    "        # Execute train_op and get the value of loss.\n",
    "        # Don't forget to feed in data for placeholders\n",
    "        _, loss_ = sess.run([optimizer, loss], feed_dict={X_placeholder: X_train, Y_placeholder: Y_train})\n",
    "        total_loss += loss_\n",
    "\n",
    "        if(i % 10 == 0):\n",
    "            print('Epoch {0}: {1}'.format(i, loss_))\n",
    "\n",
    "    # Step 9: output the values of w and b\n",
    "    w_out, b_out = sess.run([w, b])\n",
    "    print(\"w = %s, b = %s\" % (w_out, b_out))"
   ]
  },
  {
   "cell_type": "code",
   "execution_count": 79,
   "metadata": {},
   "outputs": [
    {
     "data": {
      "image/png": "[encoded data removed]",
      "text/plain": [
       "<Figure size 432x288 with 1 Axes>"
      ]
     },
     "metadata": {
      "needs_background": "light"
     },
     "output_type": "display_data"
    }
   ],
   "source": [
    "# Plotting original Data\n",
    "import matplotlib.pyplot as plt\n",
    "x_axis = X_train['atc_4_cd']\n",
    "y_axis = Y_train.curr_period_tx_cnt.values\n",
    "#print(type(y_axis))\n",
    "plt.plot(x_axis, y_axis, \"b.\", label='Real data')\n",
    "plt.show()"
   ]
  },
  {
   "cell_type": "code",
   "execution_count": 81,
   "metadata": {},
   "outputs": [
    {
     "data": {
      "text/plain": [
       "numpy.ndarray"
      ]
     },
     "execution_count": 81,
     "metadata": {},
     "output_type": "execute_result"
    }
   ],
   "source": [
    "calculted_y_temp = X_train.dot(w_out)\n",
    "#calculted_y_temp.values\n",
    "calculted_y = b_out + calculted_y_temp.values\n",
    "type(calculted_y)\n"
   ]
  },
  {
   "cell_type": "code",
   "execution_count": 82,
   "metadata": {},
   "outputs": [
    {
     "data": {
      "text/plain": [
       "<function matplotlib.pyplot.show(*args, **kw)>"
      ]
     },
     "execution_count": 82,
     "metadata": {},
     "output_type": "execute_result"
    },
    {
     "data": {
      "image/png": "[encoded data removed]",
      "text/plain": [
       "<Figure size 432x288 with 1 Axes>"
      ]
     },
     "metadata": {
      "needs_background": "light"
     },
     "output_type": "display_data"
    }
   ],
   "source": [
    "# Plotting Calculated data\n",
    "plt.plot(x_axis, calculted_y,\"b.\")\n",
    "plt.show"
   ]
  },
  {
   "cell_type": "code",
   "execution_count": null,
   "metadata": {},
   "outputs": [],
   "source": []
  }
 ],
 "metadata": {
  "kernelspec": {
   "display_name": "Python 3",
   "language": "python",
   "name": "python3"
  },
  "language_info": {
   "codemirror_mode": {
    "name": "ipython",
    "version": 3
   },
   "file_extension": ".py",
   "mimetype": "text/x-python",
   "name": "python",
   "nbconvert_exporter": "python",
   "pygments_lexer": "ipython3",
   "version": "3.6.6"
  }
 },
 "nbformat": 4,
 "nbformat_minor": 2
}
